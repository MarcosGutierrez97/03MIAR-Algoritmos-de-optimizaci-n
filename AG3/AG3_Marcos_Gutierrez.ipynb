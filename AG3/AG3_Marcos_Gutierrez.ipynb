{
  "nbformat": 4,
  "nbformat_minor": 0,
  "metadata": {
    "colab": {
      "name": "AG3_Marcos Gutierrez.ipynb",
      "provenance": [],
      "collapsed_sections": [],
      "include_colab_link": true
    },
    "kernelspec": {
      "name": "python3",
      "display_name": "Python 3"
    }
  },
  "cells": [
    {
      "cell_type": "markdown",
      "metadata": {
        "id": "view-in-github",
        "colab_type": "text"
      },
      "source": [
        "<a href=\"https://colab.research.google.com/github/MarcosGutierrez97/03MIAR-Algoritmos-de-optimizaci-n/blob/main/AG3/AG3_Marcos_Gutierrez.ipynb\" target=\"_parent\"><img src=\"https://colab.research.google.com/assets/colab-badge.svg\" alt=\"Open In Colab\"/></a>"
      ]
    },
    {
      "cell_type": "markdown",
      "metadata": {
        "id": "Ofrcocl8c9RM"
      },
      "source": [
        "AG3- Actividad Guiada 3<br>\n",
        "Nombre:Marcos Gutierrez <br>\n",
        "https://github.com/raul27868/03MAIR---Algoritmos-de-Optimizacion/tree/master/AG3\n",
        "https://colab.research.google.com/drive/xxxxxxxxxxxxxxxx?usp=sharing\n"
      ]
    },
    {
      "cell_type": "code",
      "metadata": {
        "id": "qP-Y3Gkfc4vn"
      },
      "source": [
        "!pip install requests    #Hacer llamadas http a paginas de la red\n",
        "!pip install tsplib95    #Modulo para las instancias del problema del TSP"
      ],
      "execution_count": null,
      "outputs": []
    },
    {
      "cell_type": "code",
      "metadata": {
        "id": "-SWA0WtIfFOS"
      },
      "source": [
        ""
      ],
      "execution_count": null,
      "outputs": []
    },
    {
      "cell_type": "code",
      "metadata": {
        "id": "mnA47nhtdKOc",
        "colab": {
          "base_uri": "https://localhost:8080/"
        },
        "outputId": "74335171-b5dd-4adf-fd51-9d4217ff0ebf"
      },
      "source": [
        "import urllib.request #Hacer llamadas http a paginas de la red\n",
        "import tsplib95       #Modulo para las instancias del problema del TSP\n",
        "import math           #Modulo de funciones matematicas. Se usa para exp\n",
        "\n",
        "#http://elib.zib.de/pub/mp-testdata/tsp/tsplib/\n",
        "#Documentacion : \n",
        "  # http://comopt.ifi.uni-heidelberg.de/software/TSPLIB95/tsp95.pdf\n",
        "  # https://tsplib95.readthedocs.io/en/stable/pages/usage.html\n",
        "  # https://tsplib95.readthedocs.io/en/v0.6.1/modules.html\n",
        "  # https://pypi.org/project/tsplib95/\n",
        "\n",
        "#Descargamos el fichero de datos(Matriz de distancias)\n",
        "file = \"swiss42.tsp\" ; \n",
        "urllib.request.urlretrieve(\"http://elib.zib.de/pub/mp-testdata/tsp/tsplib/tsp/swiss42.tsp\", file) \n",
        "\n",
        "#Coordendas 51-city problem (Christofides/Eilon)\n",
        "#file = \"eil51.tsp\" ; urllib.request.urlretrieve(\"http://elib.zib.de/pub/mp-testdata/tsp/tsplib/tsp/eil51.tsp\", file)\n",
        "\n",
        "#Coordenadas - 48 capitals of the US (Padberg/Rinaldi)\n",
        "#file = \"att48.tsp\" ; urllib.request.urlretrieve(\"http://elib.zib.de/pub/mp-testdata/tsp/tsplib/tsp/att48.tsp\", file)\n",
        "\n",
        "\n"
      ],
      "execution_count": null,
      "outputs": [
        {
          "output_type": "execute_result",
          "data": {
            "text/plain": [
              "('swiss42.tsp', <http.client.HTTPMessage at 0x7fc878915f50>)"
            ]
          },
          "metadata": {
            "tags": []
          },
          "execution_count": 3
        }
      ]
    },
    {
      "cell_type": "code",
      "metadata": {
        "id": "ARkZkqP1m3tf"
      },
      "source": [
        "#Modulos extras, no esenciales\n",
        "import numpy as np\n",
        "import matplotlib.pyplot as plt\n",
        "import imageio                    #Para construir las imagenes con gif\n",
        "from google.colab import files    #Para descargar ficheros generados con google colab\n",
        "\n",
        "from tempfile import mkstemp      #Para genera carpetas y ficheros temporales\n",
        "\n",
        "import random                     #Para generar valores aleatorios\n"
      ],
      "execution_count": null,
      "outputs": []
    },
    {
      "cell_type": "code",
      "metadata": {
        "id": "RIXYkDWcfmwd"
      },
      "source": [
        "#Carga de datos y generación de objeto problem\n",
        "###############################################################################\n",
        "problem = tsplib95.load(file)\n",
        "\n",
        "#Nodos\n",
        "Nodos = list(problem.get_nodes())\n",
        "\n",
        "#Aristas\n",
        "Aristas = list(problem.get_edges())\n",
        "\n"
      ],
      "execution_count": null,
      "outputs": []
    },
    {
      "cell_type": "code",
      "metadata": {
        "id": "a7bTofSnn_Jt",
        "colab": {
          "base_uri": "https://localhost:8080/"
        },
        "outputId": "97b87435-5118-42eb-aa48-89c52ff29ec1"
      },
      "source": [
        "#Probamos algunas funciones del objeto problem\n",
        "\n",
        "#Distancia entre nodos\n",
        "problem.get_weight(0, 1)\n",
        "\n",
        "#Todas las funciones\n",
        "#Documentación: https://tsplib95.readthedocs.io/en/v0.6.1/modules.html\n",
        "#               https://tsplib95.readthedocs.io/en/v0.6.1/modules.html\n",
        "#dir(problem)"
      ],
      "execution_count": null,
      "outputs": [
        {
          "output_type": "execute_result",
          "data": {
            "text/plain": [
              "15"
            ]
          },
          "metadata": {
            "tags": []
          },
          "execution_count": 6
        }
      ]
    },
    {
      "cell_type": "code",
      "metadata": {
        "id": "tzrkaBS3gmmz"
      },
      "source": [
        " \n",
        "#Funcionas basicas\n",
        "###############################################################################      \n",
        "     \n",
        "#Se genera una solucion aleatoria con comienzo en en el nodo 0\n",
        "def crear_solucion(Nodos): \n",
        "  solucion = [Nodos[0]]\n",
        "  for n in Nodos[1:]:\n",
        "    solucion = solucion + [random.choice(list(set(Nodos) - set({Nodos[0]}) - set(solucion)))]\n",
        "  return solucion \n",
        "\n",
        "#Devuelve la distancia entre dos nodos\n",
        "def distancia(a,b, problem):\n",
        "  return problem.get_weight(a,b)\n",
        "\n",
        "#Devuelve la distancia total de una trayectoria/solucion\n",
        "def distancia_total(solucion, problem):\n",
        "  distancia_total = 0\n",
        "  for i in range(len(solucion)-1):\n",
        "    distancia_total += distancia(solucion[i] ,solucion[i+1] ,  problem)\n",
        "  return distancia_total + distancia(solucion[len(solucion)-1] ,solucion[0], problem)\n",
        "\n",
        "\n",
        " "
      ],
      "execution_count": null,
      "outputs": []
    },
    {
      "cell_type": "code",
      "metadata": {
        "id": "nXhAb4oNk418",
        "colab": {
          "base_uri": "https://localhost:8080/"
        },
        "outputId": "92855a6c-3eb2-4877-989b-fb48436eeb4b"
      },
      "source": [
        "###############################################################################\n",
        "# BUSQUEDA ALEATORIA\n",
        "###############################################################################\n",
        "\n",
        "def busqueda_aleatoria(problem, N):\n",
        "  Nodos = list(problem.get_nodes())\n",
        "  \n",
        "  mejor_solucion = []\n",
        "  #mejor_distancia = 10e100                         #Inicializamos con un valor alto\n",
        "  mejor_distancia = float('inf')                    #Inicializamos con un valor alto\n",
        "  \n",
        "  for i in range(N):                                #Criterio de parada: repetir N veces pero podemos incluir otros\n",
        "    solucion = crear_solucion(Nodos)                #Genera una solucion aleatoria\n",
        "    distancia = distancia_total(solucion, problem)  #Calcula el valor objetivo(distancia total)\n",
        "    \n",
        "    if distancia < mejor_distancia:                 #Compara con la mejor obtenida hasta ahora\n",
        "      mejor_solucion = solucion\n",
        "      mejor_distancia = distancia\n",
        "      \n",
        "      \n",
        "  print(\"Mejor solución:\" , mejor_solucion) \n",
        "  print(\"Distancia     :\" , mejor_distancia) \n",
        "  return mejor_solucion  \n",
        "\n",
        "    \n",
        "#Busqueda aleatoria con 5000 iteraciones    \n",
        "solucion = busqueda_aleatoria(problem, 5000)    \n",
        " "
      ],
      "execution_count": null,
      "outputs": [
        {
          "output_type": "stream",
          "text": [
            "Mejor solución: [0, 4, 11, 35, 2, 15, 12, 37, 19, 5, 18, 25, 10, 29, 3, 33, 14, 9, 21, 40, 22, 24, 8, 20, 38, 17, 6, 7, 26, 28, 41, 23, 39, 30, 32, 13, 31, 36, 16, 1, 27, 34]\n",
            "Distancia     : 3740\n"
          ],
          "name": "stdout"
        }
      ]
    },
    {
      "cell_type": "code",
      "metadata": {
        "id": "BT2gWJsFm5hM",
        "colab": {
          "base_uri": "https://localhost:8080/"
        },
        "outputId": "ecf32119-8e90-4db2-aa03-ceffcc89d092"
      },
      "source": [
        "###############################################################################\n",
        "# BUSQUEDA LOCAL\n",
        "###############################################################################\n",
        "\n",
        "def genera_vecina(solucion):\n",
        "  #Generador de soluciones vecinas: 2-opt (intercambiar 2 nodos) Si hay N nodos se generan (N-1)x(N-2)/2 soluciones\n",
        "  #Se puede modificar para aplicar otros generadores distintos que 2-opt\n",
        "  #print(solucion)\n",
        "  mejor_solucion = []\n",
        "  mejor_distancia = 10e100\n",
        "  for i in range(1,len(solucion)-1):          #Recorremos todos los nodos en bucle doble para evaluar todos los intercambios 2-opt\n",
        "    for j in range(i+1, len(solucion)):\n",
        "      \n",
        "      #Se genera una nueva solución intercambiando los dos nodos i,j:\n",
        "      #  (usamos el operador + que para listas en python las concatena) : ej.: [1,2] + [3] = [1,2,3]\n",
        "      vecina = solucion[:i] + [solucion[j]] + solucion[i+1:j] + [solucion[i]] + solucion[j+1:]  \n",
        "\n",
        "      #Se evalua la nueva solución ...\n",
        "      distancia_vecina = distancia_total(vecina, problem)         \n",
        "\n",
        "      #... para guardarla si mejora las anteriores\n",
        "      if distancia_vecina <= mejor_distancia:\n",
        "        mejor_distancia = distancia_vecina\n",
        "        mejor_solucion = vecina\n",
        "  return mejor_solucion\n",
        "\n",
        "\n",
        "#solucion = [1, 47, 13, 41, 40, 19, 42, 44, 37, 5, 22, 28, 3, 2, 29, 21, 50, 34, 30, 9, 16, 11, 38, 49, 10, 39, 33, 45, 15, 24, 43, 26, 31, 36, 35, 20, 8, 7, 23, 48, 27, 12, 17, 4, 18, 25, 14, 6, 51, 46, 32]\n",
        "print(\"Distancia Solucion Incial:\" , distancia_total(solucion, problem))\n",
        " \n",
        "\n",
        "nueva_solucion = genera_vecina(solucion)\n",
        "print(\"Distancia Mejor Solucion Local:\", distancia_total(nueva_solucion, problem))\n",
        "\n",
        " "
      ],
      "execution_count": null,
      "outputs": [
        {
          "output_type": "stream",
          "text": [
            "Distancia Solucion Incial: 3740\n",
            "Distancia Mejor Solucion Local: 3400\n"
          ],
          "name": "stdout"
        }
      ]
    },
    {
      "cell_type": "code",
      "metadata": {
        "id": "z4A4F8Pps0O7"
      },
      "source": [
        " "
      ],
      "execution_count": null,
      "outputs": []
    },
    {
      "cell_type": "code",
      "metadata": {
        "id": "UdBJg9Q9pYoE",
        "colab": {
          "base_uri": "https://localhost:8080/"
        },
        "outputId": "e7f772e4-ef88-494c-bd8c-b80ecafa2727"
      },
      "source": [
        "#Busqueda Local:\n",
        "#  - Sobre el operador de vecindad 2-opt(funcion genera_vecina)\n",
        "#  - Sin criterio de parada, se para cuando no es posible mejorar.\n",
        "def busqueda_local(problem):\n",
        "  mejor_solucion = []\n",
        "  \n",
        "  #Generar una solucion inicial de referencia(aleatoria)\n",
        "  solucion_referencia = crear_solucion(Nodos)\n",
        "  mejor_distancia = distancia_total(solucion_referencia, problem)\n",
        "\n",
        "  iteracion=0             #Un contador para saber las iteraciones que hacemos\n",
        "  while(1):\n",
        "    iteracion +=1         #Incrementamos el contador\n",
        "    #print('#',iteracion)\n",
        "\n",
        "    #Obtenemos la mejor vecina ...\n",
        "    vecina = genera_vecina(solucion_referencia)\n",
        "\n",
        "    #... y la evaluamos para ver si mejoramos respecto a lo encontrado hasta el momento\n",
        "    distancia_vecina = distancia_total(vecina, problem)\n",
        " \n",
        "    #Si no mejoramos hay que terminar. Hemos llegado a un minimo local(según nuestro operador de vencindad 2-opt)\n",
        "    if distancia_vecina < mejor_distancia:\n",
        "      #mejor_solucion = copy.deepcopy(vecina)   #Con copia profunda. Las copias en python son por referencia \n",
        "      mejor_solucion = vecina                   #Guarda la mejor solución encontrada\n",
        "      mejor_distancia = distancia_vecina\n",
        "\n",
        "    else:\n",
        "      print(\"En la iteracion \", iteracion, \", la mejor solución encontrada es:\" , mejor_solucion) \n",
        "      print(\"Distancia     :\" , mejor_distancia) \n",
        "      return mejor_solucion\n",
        "      \n",
        "    solucion_referencia = vecina\n",
        " \n",
        " \n",
        "sol = busqueda_local(problem )  \n"
      ],
      "execution_count": null,
      "outputs": [
        {
          "output_type": "stream",
          "text": [
            "En la iteracion  31 , la mejor solución encontrada es: [0, 37, 36, 35, 33, 34, 32, 5, 13, 19, 14, 16, 15, 3, 27, 29, 21, 40, 24, 39, 30, 28, 7, 17, 31, 20, 38, 22, 9, 8, 2, 4, 10, 23, 41, 25, 11, 12, 18, 26, 6, 1]\n",
            "Distancia     : 1886\n"
          ],
          "name": "stdout"
        }
      ]
    },
    {
      "cell_type": "code",
      "metadata": {
        "id": "oIlSPbkISXA-"
      },
      "source": [
        ""
      ],
      "execution_count": null,
      "outputs": []
    },
    {
      "cell_type": "code",
      "metadata": {
        "id": "EMwkY1r2pYLw"
      },
      "source": [
        "###############################################################################\n",
        "# SIMULATED ANNEALING\n",
        "###############################################################################\n",
        "\n",
        "#Generador de 1 solucion vecina 2-opt 100% aleatoria (intercambiar 2 nodos)\n",
        "#Mejorable eligiendo otra forma de elegir una vecina.\n",
        "def genera_vecina_aleatorio(solucion):\n",
        "\n",
        "  #Se eligen dos nodos aleatoriamente\n",
        "  i,j = sorted(random.sample( range(1,len(solucion)) , 2))\n",
        "  \n",
        "  #Devuelve una nueva solución pero intercambiando los dos nodos elegidos al azar\n",
        "  return solucion[:i] + [solucion[j]] + solucion[i+1:j] + [solucion[i]] + solucion[j+1:]\n",
        "  \n",
        " \n",
        "genera_vecina_aleatorio(solucion) \n"
      ],
      "execution_count": null,
      "outputs": []
    },
    {
      "cell_type": "code",
      "metadata": {
        "id": "GsN1UIDp0j6I"
      },
      "source": [
        "\n",
        "#Funcion de probabilidad para aceptar peores soluciones\n",
        "def probabilidad(T,d):\n",
        "  if random.random() <  math.exp( -1*d / T)  :\n",
        "    return True\n",
        "  else:\n",
        "    return False\n",
        "\n",
        "#Funcion de descenso de temperatura\n",
        "def bajar_temperatura(T):\n",
        "  return T*0.99\n",
        " \n",
        "\n"
      ],
      "execution_count": null,
      "outputs": []
    },
    {
      "cell_type": "code",
      "metadata": {
        "id": "l2T0EvuMsOYz"
      },
      "source": [
        ""
      ],
      "execution_count": null,
      "outputs": []
    },
    {
      "cell_type": "code",
      "metadata": {
        "id": "4waPiCcVtuhF",
        "colab": {
          "base_uri": "https://localhost:8080/"
        },
        "outputId": "c2271dc1-ae66-4613-beb7-30d822bed3d2"
      },
      "source": [
        "def recocido_simulado(problem, TEMPERATURA ):\n",
        "  #problem = datos del problema\n",
        "  #T = Temperatura\n",
        "  \n",
        "  solucion_referencia = crear_solucion(Nodos)\n",
        "  distancia_referencia = distancia_total(solucion_referencia, problem)\n",
        "  \n",
        "  mejor_solucion = []\n",
        "  mejor_distancia = 10e100\n",
        "  \n",
        "  \n",
        "  N=0\n",
        "  while TEMPERATURA > .0001:\n",
        "    N+=1\n",
        "    #Genera una solución vecina\n",
        "    vecina =genera_vecina_aleatorio(solucion_referencia)\n",
        "    \n",
        "    #Calcula su valor(distancia)\n",
        "    distancia_vecina = distancia_total(vecina, problem)\n",
        "      \n",
        "    #Si es la mejor solución de todas se guarda(siempre!!!)\n",
        "    if distancia_vecina < mejor_distancia:\n",
        "        mejor_solucion = vecina\n",
        "        mejor_distancia = distancia_vecina\n",
        "    \n",
        "    #Si la nueva vecina es mejor se cambia  \n",
        "    #Si es peor se cambia según una probabilidad que depende de T y delta(distancia_referencia - distancia_vecina)\n",
        "    if distancia_vecina < distancia_referencia or probabilidad(TEMPERATURA, abs(distancia_referencia - distancia_vecina) ) :\n",
        "      #solucion_referencia = copy.deepcopy(vecina)\n",
        "      solucion_referencia = vecina\n",
        "      distancia_referencia = distancia_vecina\n",
        "\n",
        "    #Bajamos la temperatura\n",
        "    TEMPERATURA = bajar_temperatura(TEMPERATURA)\n",
        " \n",
        "  print(\"La mejor solución encontrada es \" , end=\"\")\n",
        "  print(mejor_solucion)\n",
        "  print(\"con una distancia total de \" , end=\"\")\n",
        "  print(mejor_distancia)\n",
        "  return mejor_solucion\n",
        "\n",
        "sol  = recocido_simulado(problem, 10000000)\n",
        "\n",
        " \n",
        "\n"
      ],
      "execution_count": null,
      "outputs": [
        {
          "output_type": "stream",
          "text": [
            "La mejor solución encontrada es [0, 2, 28, 12, 11, 25, 10, 41, 23, 40, 24, 39, 21, 22, 38, 33, 35, 36, 17, 1, 3, 16, 15, 37, 31, 7, 32, 20, 34, 30, 29, 9, 8, 18, 26, 4, 27, 6, 5, 13, 19, 14]\n",
            "con una distancia total de 1865\n"
          ],
          "name": "stdout"
        }
      ]
    },
    {
      "cell_type": "code",
      "metadata": {
        "id": "LK2bXHq1TK9-"
      },
      "source": [
        "  "
      ],
      "execution_count": null,
      "outputs": []
    },
    {
      "cell_type": "code",
      "metadata": {
        "id": "kF-qizAPDzeS"
      },
      "source": [
        "\n"
      ],
      "execution_count": null,
      "outputs": []
    }
  ]
}