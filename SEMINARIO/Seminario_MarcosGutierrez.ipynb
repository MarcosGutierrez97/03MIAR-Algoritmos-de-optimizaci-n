{
  "nbformat": 4,
  "nbformat_minor": 0,
  "metadata": {
    "colab": {
      "name": "Seminario_MarcosGutierrez.ipynb",
      "provenance": [],
      "collapsed_sections": [],
      "include_colab_link": true
    },
    "kernelspec": {
      "name": "python3",
      "display_name": "Python 3"
    }
  },
  "cells": [
    {
      "cell_type": "markdown",
      "metadata": {
        "id": "view-in-github",
        "colab_type": "text"
      },
      "source": [
        "<a href=\"https://colab.research.google.com/github/MarcosGutierrez97/03MIAR-Algoritmos-de-optimizaci-n/blob/main/SEMINARIO/Seminario_MarcosGutierrez.ipynb\" target=\"_parent\"><img src=\"https://colab.research.google.com/assets/colab-badge.svg\" alt=\"Open In Colab\"/></a>"
      ]
    },
    {
      "cell_type": "markdown",
      "metadata": {
        "id": "hVbXYX-RfPWh"
      },
      "source": [
        "# Algoritmos de optimización - Seminario<br>\n",
        "Nombre y Apellidos: Marcos Gutierrez Suárez  <br>\n",
        "Url: https://github.com/MarcosGutierrez97/03MIAR-Algoritmos-de-optimizaci-n/blob/main/SEMINARIO/Seminario_MarcosGutierrez.ipynb<br>\n",
        "\n",
        "https://colab.research.google.com/drive/1We2E8HccFNiXmyAu2ITCoSGhm2tF_OEL?usp=sharing\n",
        "\n",
        "Problema:\n",
        "> 1. Sesiones de doblaje <br>\n",
        ">2. Organizar los horarios de partidos de La Liga (Este seleccioné)<br>\n",
        ">3. Combinar cifras y operaciones\n",
        "\n",
        "Descripción del problema:(copiar enunciado)\n",
        "\n",
        "\n",
        "\n",
        "(*) La respuesta es obligatoria\n",
        "\n",
        "\n",
        "\n",
        "\n",
        "\n",
        "                                        "
      ]
    },
    {
      "cell_type": "markdown",
      "metadata": {
        "id": "q7w0enzbMzaG"
      },
      "source": [
        "Desde la La Liga de fútbol profesional se pretende organizar los horarios de los partidos de\n",
        "liga de cada jornada. Se conocen algunos datos que nos deben llevar a diseñar un\n",
        "algoritmo que realice la asignación de los partidos a los horarios de forma que maximice\n",
        "la audiencia."
      ]
    },
    {
      "cell_type": "markdown",
      "metadata": {
        "id": "4Q0Go-zXMuY8"
      },
      "source": [
        ""
      ]
    },
    {
      "cell_type": "markdown",
      "metadata": {
        "id": "WfCUqJyKhPcw"
      },
      "source": [
        "Respuesta: Independientemente de las restricciones, siempre se jugarán 380 partidos. Asumiendo que las únicas restricciones son las enunciadas en el ejercicio: siempre se jugará viernes y lunes. "
      ]
    },
    {
      "cell_type": "code",
      "metadata": {
        "id": "iq6Fe32MgpDX"
      },
      "source": [
        ""
      ],
      "execution_count": null,
      "outputs": []
    },
    {
      "cell_type": "markdown",
      "metadata": {
        "id": "dzynfVJahHoY"
      },
      "source": [
        "Modelo para el espacio de soluciones<br>\n",
        "(*) ¿Cual es la estructura de datos que mejor se adapta al problema? Argumentalo.(Es posible que hayas elegido una al principio y veas la necesidad de cambiar, arguentalo)\n"
      ]
    },
    {
      "cell_type": "markdown",
      "metadata": {
        "id": "xFIJrOwKi2Ti"
      },
      "source": [
        "Respuesta "
      ]
    },
    {
      "cell_type": "markdown",
      "metadata": {
        "id": "wrsFxjTRM6Nc"
      },
      "source": [
        "Se brindará toda la información resultante en una lista de dataframes, donde cada entrada en la lista representará la información de una jornada. "
      ]
    },
    {
      "cell_type": "markdown",
      "metadata": {
        "id": "7Z9U2W7bi-XS"
      },
      "source": [
        "Según el modelo para el espacio de soluciones<br>\n",
        "(*)¿Cual es la función objetivo? \n",
        "\n",
        "(*)¿Es un problema de maximización o minimización? "
      ]
    },
    {
      "cell_type": "markdown",
      "metadata": {
        "id": "hBalWLM7j1_d"
      },
      "source": [
        "Respuesta\n",
        "\n",
        "La función objetivo es la que describe corrección coincidencia. Esta explica el aforo total tomando en cuenta popularidad de equipo y horario.\n",
        "\n",
        "\n",
        "Es un problema de maximización, porque se busca mazimar el aforo total en cada partido. "
      ]
    },
    {
      "cell_type": "markdown",
      "metadata": {
        "id": "rlnTYgY1j6I2"
      },
      "source": [
        "Diseña un algoritmo para resolver el problema por fuerza bruta"
      ]
    },
    {
      "cell_type": "markdown",
      "metadata": {
        "id": "70rDgxYXkC8r"
      },
      "source": [
        "Respuesta\n",
        "\n",
        "- Recorrer lista de equipo A\n",
        "- Permutar entre sí\n",
        "- Emparejar cada miembro de la lista A con los de B y C\n",
        "- Repetir"
      ]
    },
    {
      "cell_type": "markdown",
      "metadata": {
        "id": "tgrnsC2nkFa8"
      },
      "source": [
        "Calcula la complejidad del algoritmo por fuerza bruta\n",
        "\n",
        "Respuesta\n",
        "\n",
        "Debido a los 3 bucles anidados su complejidad va de orden cúbico"
      ]
    },
    {
      "cell_type": "markdown",
      "metadata": {
        "id": "txbrmLmskReM"
      },
      "source": [
        "(*)Diseña un algoritmo que mejore la complejidad del algortimo por fuerza bruta. Argumenta porque crees que mejora el algoritmo por fuerza bruta"
      ]
    },
    {
      "cell_type": "markdown",
      "metadata": {
        "id": "hLrVwt5QkZPD"
      },
      "source": [
        "Respuesta:\n",
        "Se combinan técnicas de ordenación, busqueda y heuristicos. \n",
        "- Se establece un máximo en la busqueda tabú de los equipo categoría A. Asimismo, se aplica una poda, ya que se brindan los horarios optimos a los mejores partidos.\n",
        "-Estos se ordenan respecto al horario que maximiza el aforo\n",
        "-Se repite el paso 1 con los de categoría C, que localmente minimizan el aforo. En este paso, se efectua la poda para brindar los horarios menos optimos para los peores partidos.\n",
        "- Luego se permutan los grupos A y B, para los horarios secundarios. Aqui se combinan los hoarios optimos y medios.\n",
        "- Luego se permutan los grupos A y C para los terciarios. Aqui los horarios se combinan entre optimos y no optimos.\n",
        "- Finalmente se permutan los grupos B y C para cuartos. Aqui los horarios son los medios y no optimos. \n",
        "\n",
        "Aquí se combinan las técnias de busqueda tabú, buscando las soluciones optimas en un contexto local y luego se orden partiendo tando de un mínimo como de un máximo. Se asume, además, que habrán partidos de vuelta, como lo es en una liga profesional"
      ]
    },
    {
      "cell_type": "markdown",
      "metadata": {
        "id": "eGDB4K6uk1iN"
      },
      "source": [
        "(*)Calcula la complejidad del algoritmo "
      ]
    },
    {
      "cell_type": "markdown",
      "metadata": {
        "id": "NhpTh_BPk1ms"
      },
      "source": [
        "*Respuesta* Quasi lineal: n log(n)"
      ]
    },
    {
      "cell_type": "markdown",
      "metadata": {
        "id": "3M6QjTsSkmYe"
      },
      "source": [
        "Según el problema (y tenga sentido), diseña un juego de datos de entrada aleatorios"
      ]
    },
    {
      "cell_type": "markdown",
      "metadata": {
        "id": "Jc3_OlyNkvjZ"
      },
      "source": [
        "Respuesta"
      ]
    },
    {
      "cell_type": "code",
      "metadata": {
        "id": "sJ-N2etjkyWc",
        "colab": {
          "base_uri": "https://localhost:8080/"
        },
        "outputId": "bd110e01-b2d0-4c99-ab70-c488950cb28c"
      },
      "source": [
        "#Listado de equipos\n",
        "equipos_A = [\"A1\",\"A2\",\"A3\"]\n",
        "equipos_B = []\n",
        "for i in range(1,12):\n",
        "  equipos_B.append(\"B\" + str(i))\n",
        "equipos_C = [\"C1\",\"C2\",\"C3\",\"C4\",\"C5\",\"C6\"]\n",
        "print(equipos_A)\n",
        "print(equipos_B)\n",
        "print(equipos_C)\n",
        "#Horarios y su coeficientes\n",
        "horarios_coeficientes = {\"20V\":0.4, \"12S\":0.55, \"16S\":0.7,\"18S\":0.8,\"20S\":1, \"12D\":0.45,\"16D\":0.75,\"18D\":0.5,\"20D\":1,\"20L\":0.4}\n",
        "aforo_coeficientes = {\"AA\": 2*10**6, \"AB\": 1.3*10**6,\"AC\": 1*10**6, \"BB\": 0.9*10**6, \"BC\": 0.75*10**6, \"CC\":0.47*10**6}\n",
        "ponderacion_coicidencias = [1,0.75,0.55,0.40,0.30,0.25,0.23,0.20,0.20]\n",
        "print(horarios_coeficientes)\n",
        "print(aforo_coeficientes)\n",
        "print(4%3)"
      ],
      "execution_count": null,
      "outputs": [
        {
          "output_type": "stream",
          "text": [
            "['A1', 'A2', 'A3']\n",
            "['B1', 'B2', 'B3', 'B4', 'B5', 'B6', 'B7', 'B8', 'B9', 'B10', 'B11']\n",
            "['C1', 'C2', 'C3', 'C4', 'C5', 'C6']\n",
            "{'20V': 0.4, '12S': 0.55, '16S': 0.7, '18S': 0.8, '20S': 1, '12D': 0.45, '16D': 0.75, '18D': 0.5, '20D': 1, '20L': 0.4}\n",
            "{'AA': 2000000, 'AB': 1300000.0, 'AC': 1000000, 'BB': 900000.0, 'BC': 750000.0, 'CC': 470000.0}\n",
            "1\n"
          ],
          "name": "stdout"
        }
      ]
    },
    {
      "cell_type": "markdown",
      "metadata": {
        "id": "zy5ZROmjlGo1"
      },
      "source": [
        "Aplica el algoritmo al juego de datos generado"
      ]
    },
    {
      "cell_type": "markdown",
      "metadata": {
        "id": "_Cmj-PVylMsa"
      },
      "source": [
        "Respuesta"
      ]
    },
    {
      "cell_type": "code",
      "metadata": {
        "id": "Jkx8GeiYlUz1",
        "colab": {
          "base_uri": "https://localhost:8080/"
        },
        "outputId": "884e96c5-46f1-49b1-94c5-d9d0459d8909"
      },
      "source": [
        "import itertools\n",
        "import numpy as np\n",
        "import pandas as pd\n",
        "def partidos_algoritmo(A,B,C,horarios = horarios_coeficientes, aforo = aforo_coeficientes,coincidencias = ponderacion_coicidencias): #A = equipos categoria A, B = equipos categoria B, C = equipos categoria C\n",
        "  #Partidos entre equipos A: horarios privilegiados Sabados y domingos a 20\n",
        "  horarios_clase_A = [\"20S\",\"20D\"]\n",
        "  partidos_A = list(itertools.combinations(A, 2))\n",
        "  horarios_A = [horarios_clase_A[1] if i%2 == 0 else horarios_clase_A[0] for i in range(0,len(partidos_A))]\n",
        "  aforo_A = [\"AA\" for i in range(0,len(partidos_A))]\n",
        "  #Partidos entre equipos C :horarios menos privilegiados lunes, viernes y domingos a las 12D\n",
        "  horarios_clase_C = [\"20V\",\"20L\",\"12D\"]\n",
        "  partidos_C = list(itertools.combinations(C, 2))\n",
        "  horarios_C = [horarios_clase_C[i%3] for i in range(0,len(partidos_C))]\n",
        "  aforo_C = [\"CC\" for i in range(0,len(partidos_C))]\n",
        "  #Partidos entre equipos B: horarios restantes\n",
        "  horarios_clase_B = [\"12S\",\"16S\",\"18S\",\"18S\",\"18D\"]\n",
        "  partidos_B = list(itertools.combinations(B, 2))\n",
        "  horarios_B = [horarios_clase_B[i%len(horarios_clase_B)] for i in range(0,len(partidos_B))]\n",
        "  aforo_B = [\"BB\" for i in range(0,len(partidos_B))]\n",
        "  #Partidos A,B\n",
        "  equipos_AB = A + B\n",
        "  partidos_AB = list(itertools.combinations(equipos_AB,2))\n",
        "  horarios_clase_AB = horarios_clase_A + horarios_clase_B\n",
        "  horarios_AB = [horarios_clase_AB[i%len(horarios_clase_AB)] for i in range(0,len(partidos_AB))]\n",
        "  aforo_AB = [\"AB\" for i in range(0,len(partidos_AB))]\n",
        "  #Partidos A,C\n",
        "  equipos_AC = A + C\n",
        "  partidos_AC = list(itertools.combinations(equipos_AC,2))\n",
        "  horarios_clase_AC = horarios_clase_A + horarios_clase_C\n",
        "  horarios_AC = [horarios_clase_AC[i%len(horarios_clase_AC)] for i in range(0,len(partidos_AC))]\n",
        "  aforo_AC = [\"AC\" for i in range(0,len(partidos_AC))]\n",
        "  #Partidos B,C\n",
        "  equipos_CB = C + B\n",
        "  partidos_CB = list(itertools.combinations(equipos_CB,2))\n",
        "  horarios_clase_CB = horarios_clase_C + horarios_clase_B\n",
        "  horarios_CB = [horarios_clase_CB[i%len(horarios_clase_CB)] for i in range(0,len(partidos_CB))]\n",
        "  aforo_CB = [\"BC\" for i in range(0,len(partidos_CB))]\n",
        "  #Partidos y horarios generales\n",
        "  partidos_totales = partidos_A + partidos_B + partidos_C + partidos_AB + partidos_AC + partidos_CB \n",
        "  horarios_totales = horarios_A + horarios_B + horarios_C + horarios_AB + horarios_AC + horarios_CB\n",
        "  #Ponderacion por horario\n",
        "  ponderacion_horarios = [horarios_coeficientes[i] for i in horarios_totales]\n",
        "  #Ponderacion por aforo total\n",
        "  aforo_total = aforo_A + aforo_B + aforo_C + aforo_AB + aforo_AC + aforo_CB\n",
        "  ponderacion_aforo = [aforo_coeficientes[i] for i in aforo_total]\n",
        "  df = pd.DataFrame(np.column_stack([partidos_totales,aforo_total,ponderacion_aforo,horarios_totales,ponderacion_horarios]))\n",
        "  df = df.set_axis([\"Equipo 1\", \"Equipo 2\",\"Tipo partido\",\"Aforo sin ponderar\",\"Horario\",\"Ponderacion horaria\"],axis = \"columns\")\n",
        "  df[[\"Aforo sin ponderar\",\"Ponderacion horaria\"]] =  df[[\"Aforo sin ponderar\",\"Ponderacion horaria\"]].apply(pd.to_numeric)\n",
        "  df[\"Aforo ponderado\"] = df[\"Aforo sin ponderar\"]*df[\"Ponderacion horaria\"]\n",
        "  #La liga se dividira en 28 jornadas de 12 partidos\n",
        "  lista_df = np.array_split(df,28)\n",
        "  #Se ponderan las coincidencias por jornada\n",
        "  for dfs in lista_df:\n",
        "    l = np.array([coincidencias[(dfs[\"Horario\"] == i).sum()-1] for i in dfs[\"Horario\"]])\n",
        "    dfs[\"Ponderacion*coincidencia\"] = l\n",
        "    dfs[\"Ponderacion_final*coincidencia\"] = dfs[\"Aforo ponderado\"]*dfs[\"Ponderacion*coincidencia\"]\n",
        "  return lista_df\n",
        "  #Display de las primeras 5 jornadas. Se pueden ver todas cambiando el rango\n",
        "\n",
        "partidos_algoritmo(equipos_A,equipos_B,equipos_C)[0:6]"
      ],
      "execution_count": null,
      "outputs": [
        {
          "output_type": "execute_result",
          "data": {
            "text/plain": [
              "[   Equipo 1 Equipo 2  ... Ponderacion*coincidencia  Ponderacion_final*coincidencia\n",
              " 0        A1       A2  ...                     0.75                       1500000.0\n",
              " 1        A1       A3  ...                     1.00                       2000000.0\n",
              " 2        A2       A3  ...                     0.75                       1500000.0\n",
              " 3        B1       B2  ...                     0.75                        371250.0\n",
              " 4        B1       B3  ...                     0.75                        472500.0\n",
              " 5        B1       B4  ...                     0.40                        288000.0\n",
              " 6        B1       B5  ...                     0.40                        288000.0\n",
              " 7        B1       B6  ...                     1.00                        450000.0\n",
              " 8        B1       B7  ...                     0.75                        371250.0\n",
              " 9        B1       B8  ...                     0.75                        472500.0\n",
              " 10       B1       B9  ...                     0.40                        288000.0\n",
              " 11       B1      B10  ...                     0.40                        288000.0\n",
              " \n",
              " [12 rows x 9 columns],\n",
              "    Equipo 1 Equipo 2  ... Ponderacion*coincidencia  Ponderacion_final*coincidencia\n",
              " 12       B1      B11  ...                     0.55                        247500.0\n",
              " 13       B2       B3  ...                     0.55                        272250.0\n",
              " 14       B2       B4  ...                     0.75                        472500.0\n",
              " 15       B2       B5  ...                     0.40                        288000.0\n",
              " 16       B2       B6  ...                     0.40                        288000.0\n",
              " 17       B2       B7  ...                     0.55                        247500.0\n",
              " 18       B2       B8  ...                     0.55                        272250.0\n",
              " 19       B2       B9  ...                     0.75                        472500.0\n",
              " 20       B2      B10  ...                     0.40                        288000.0\n",
              " 21       B2      B11  ...                     0.40                        288000.0\n",
              " 22       B3       B4  ...                     0.55                        247500.0\n",
              " 23       B3       B5  ...                     0.55                        272250.0\n",
              " \n",
              " [12 rows x 9 columns],\n",
              "    Equipo 1 Equipo 2  ... Ponderacion*coincidencia  Ponderacion_final*coincidencia\n",
              " 24       B3       B6  ...                     0.55                        346500.0\n",
              " 25       B3       B7  ...                     0.30                        216000.0\n",
              " 26       B3       B8  ...                     0.30                        216000.0\n",
              " 27       B3       B9  ...                     0.75                        337500.0\n",
              " 28       B3      B10  ...                     0.75                        371250.0\n",
              " 29       B3      B11  ...                     0.55                        346500.0\n",
              " 30       B4       B5  ...                     0.30                        216000.0\n",
              " 31       B4       B6  ...                     0.30                        216000.0\n",
              " 32       B4       B7  ...                     0.75                        337500.0\n",
              " 33       B4       B8  ...                     0.75                        371250.0\n",
              " 34       B4       B9  ...                     0.55                        346500.0\n",
              " 35       B4      B10  ...                     0.30                        216000.0\n",
              " \n",
              " [12 rows x 9 columns],\n",
              "    Equipo 1 Equipo 2  ... Ponderacion*coincidencia  Ponderacion_final*coincidencia\n",
              " 36       B4      B11  ...                     0.30                        216000.0\n",
              " 37       B5       B6  ...                     0.55                        247500.0\n",
              " 38       B5       B7  ...                     0.75                        371250.0\n",
              " 39       B5       B8  ...                     0.75                        472500.0\n",
              " 40       B5       B9  ...                     0.30                        216000.0\n",
              " 41       B5      B10  ...                     0.30                        216000.0\n",
              " 42       B5      B11  ...                     0.55                        247500.0\n",
              " 43       B6       B7  ...                     0.75                        371250.0\n",
              " 44       B6       B8  ...                     0.75                        472500.0\n",
              " 45       B6       B9  ...                     0.30                        216000.0\n",
              " 46       B6      B10  ...                     0.30                        216000.0\n",
              " 47       B6      B11  ...                     0.55                        247500.0\n",
              " \n",
              " [12 rows x 9 columns],\n",
              "    Equipo 1 Equipo 2  ... Ponderacion*coincidencia  Ponderacion_final*coincidencia\n",
              " 48       B7       B8  ...                     0.75                        371250.0\n",
              " 49       B7       B9  ...                     0.75                        472500.0\n",
              " 50       B7      B10  ...                     0.40                        288000.0\n",
              " 51       B7      B11  ...                     0.40                        288000.0\n",
              " 52       B8       B9  ...                     0.75                        337500.0\n",
              " 53       B8      B10  ...                     0.75                        371250.0\n",
              " 54       B8      B11  ...                     0.75                        472500.0\n",
              " 55       B9      B10  ...                     0.40                        288000.0\n",
              " 56       B9      B11  ...                     0.40                        288000.0\n",
              " 57      B10      B11  ...                     0.75                        337500.0\n",
              " 58       C1       C2  ...                     1.00                        188000.0\n",
              " 59       C1       C3  ...                     1.00                        188000.0\n",
              " \n",
              " [12 rows x 9 columns],\n",
              "    Equipo 1 Equipo 2  ... Ponderacion*coincidencia  Ponderacion_final*coincidencia\n",
              " 60       C1       C4  ...                      0.4                         84600.0\n",
              " 61       C1       C5  ...                      0.4                         75200.0\n",
              " 62       C1       C6  ...                      0.4                         75200.0\n",
              " 63       C2       C3  ...                      0.4                         84600.0\n",
              " 64       C2       C4  ...                      0.4                         75200.0\n",
              " 65       C2       C5  ...                      0.4                         75200.0\n",
              " 66       C2       C6  ...                      0.4                         84600.0\n",
              " 67       C3       C4  ...                      0.4                         75200.0\n",
              " 68       C3       C5  ...                      0.4                         75200.0\n",
              " 69       C3       C6  ...                      0.4                         84600.0\n",
              " 70       C4       C5  ...                      0.4                         75200.0\n",
              " 71       C4       C6  ...                      0.4                         75200.0\n",
              " \n",
              " [12 rows x 9 columns]]"
            ]
          },
          "metadata": {
            "tags": []
          },
          "execution_count": 7
        }
      ]
    },
    {
      "cell_type": "markdown",
      "metadata": {
        "id": "eTFWUJQrtGcv"
      },
      "source": [
        "Enumera las referencias que has utilizado(si ha sido necesario) para llevar a cabo el trabajo\n"
      ]
    },
    {
      "cell_type": "markdown",
      "metadata": {
        "id": "YKQ_mRBttWsP"
      },
      "source": [
        "Respuesta\n",
        "-La guía del curso"
      ]
    },
    {
      "cell_type": "markdown",
      "metadata": {
        "id": "kAkDPUyRtYyH"
      },
      "source": [
        "Describe brevemente las lineas de como crees que es posible avanzar en el estudio del problema. Ten en cuenta incluso posibles variaciones del problema y/o variaciones al alza del tamaño:\n",
        "\n"
      ]
    },
    {
      "cell_type": "markdown",
      "metadata": {
        "id": "IE0uZmo-tZu-"
      },
      "source": [
        "Respuesta\n",
        "\n",
        "Pensando en hacerlo más aplicable a un estudio real, es necesario considerar las estadísticas de los partidos de local y visitante. Esto implica otra ponderación en la probabilidad del resultado. Consecuentemente, al darle peso a este caso, se debe considerar una liga con partidos de ida y vuelta. \n",
        "\n",
        "También debe existir una ponderación por época del año. Los partidos jugados en periodo de vacaciones puede que sean más vistos que en los días de no asuento. Esto implica cambios en la forma de estimar la ordenación y otras capas en la busqueda y poda. "
      ]
    }
  ]
}