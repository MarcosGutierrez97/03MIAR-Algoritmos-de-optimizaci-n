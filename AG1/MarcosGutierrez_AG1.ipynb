{
  "nbformat": 4,
  "nbformat_minor": 0,
  "metadata": {
    "colab": {
      "name": "MarcosGutierrez_AG1.ipynb",
      "provenance": [],
      "authorship_tag": "ABX9TyOvjICxVIiNldKArKILgIqn",
      "include_colab_link": true
    },
    "kernelspec": {
      "name": "python3",
      "display_name": "Python 3"
    },
    "language_info": {
      "name": "python"
    }
  },
  "cells": [
    {
      "cell_type": "markdown",
      "metadata": {
        "id": "view-in-github",
        "colab_type": "text"
      },
      "source": [
        "<a href=\"https://colab.research.google.com/github/MarcosGutierrez97/03MIAR-Algoritmos-de-optimizaci-n/blob/main/AG1/MarcosGutierrez_AG1.ipynb\" target=\"_parent\"><img src=\"https://colab.research.google.com/assets/colab-badge.svg\" alt=\"Open In Colab\"/></a>"
      ]
    },
    {
      "cell_type": "code",
      "metadata": {
        "id": "ngjRfmEsrI3a"
      },
      "source": [
        "##Actividad guíada 1\n",
        "#Marcos Gutierrez\n",
        "# https://colab.research.google.com/drive/1gUvdFS3Sptn3MgGMqDdEuVElEdCsqTFL?usp=sharing\n",
        "\n"
      ],
      "execution_count": null,
      "outputs": []
    },
    {
      "cell_type": "code",
      "metadata": {
        "id": "nu4dGj2CrJ90"
      },
      "source": [
        ""
      ],
      "execution_count": null,
      "outputs": []
    }
  ]
}