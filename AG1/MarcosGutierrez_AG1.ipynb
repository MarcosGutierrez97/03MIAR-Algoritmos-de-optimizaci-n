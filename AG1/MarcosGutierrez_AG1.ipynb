{
  "nbformat": 4,
  "nbformat_minor": 0,
  "metadata": {
    "colab": {
      "name": "MarcosGutierrez_AG1.ipynb",
      "provenance": [],
      "collapsed_sections": [],
      "authorship_tag": "ABX9TyOnc4zU83zrTk773J5Otgo2",
      "include_colab_link": true
    },
    "kernelspec": {
      "name": "python3",
      "display_name": "Python 3"
    },
    "language_info": {
      "name": "python"
    }
  },
  "cells": [
    {
      "cell_type": "markdown",
      "metadata": {
        "id": "view-in-github",
        "colab_type": "text"
      },
      "source": [
        "<a href=\"https://colab.research.google.com/github/MarcosGutierrez97/03MIAR-Algoritmos-de-optimizaci-n/blob/main/AG1/MarcosGutierrez_AG1.ipynb\" target=\"_parent\"><img src=\"https://colab.research.google.com/assets/colab-badge.svg\" alt=\"Open In Colab\"/></a>"
      ]
    },
    {
      "cell_type": "markdown",
      "metadata": {
        "id": "b6IkpzyCu4sG"
      },
      "source": [
        "Actividad guíada 1\n",
        "Marcos Gutierrez\n",
        "\n",
        "https://colab.research.google.com/drive/1gUvdFS3Sptn3MgGMqDdEuVElEdCsqTFL?usp=sharing\n",
        "\n",
        " Compartido en GitHub desde Google colab\n"
      ]
    },
    {
      "cell_type": "code",
      "metadata": {
        "id": "J7nAWl6qvAZl"
      },
      "source": [
        "def Torres_Hanoi(N,desde,hasta):\n",
        "  if N==1:\n",
        "    print(\"Mueve desde \" + str(desde) + \" hasta \" + str(hasta))\n",
        "  else: \n",
        "    Torres_Hanoi(N-1,desde,6-desde-hasta)\n",
        "    print(\"Mueve desde \" + str(desde) + \" hasta \" + str(hasta))\n",
        "    Torres_Hanoi(N-1,desde,6-desde-hasta)\n",
        "  "
      ],
      "execution_count": 1,
      "outputs": []
    },
    {
      "cell_type": "code",
      "metadata": {
        "colab": {
          "base_uri": "https://localhost:8080/"
        },
        "id": "SsHPMW5oy6x1",
        "outputId": "070ab3dd-c6ca-4bcc-f8d0-de4d3447247e"
      },
      "source": [
        "Torres_Hanoi(6,1,3)"
      ],
      "execution_count": 2,
      "outputs": [
        {
          "output_type": "stream",
          "text": [
            "Mueve desde 1 hasta 2\n",
            "Mueve desde 1 hasta 3\n",
            "Mueve desde 1 hasta 2\n",
            "Mueve desde 1 hasta 2\n",
            "Mueve desde 1 hasta 2\n",
            "Mueve desde 1 hasta 3\n",
            "Mueve desde 1 hasta 2\n",
            "Mueve desde 1 hasta 3\n",
            "Mueve desde 1 hasta 2\n",
            "Mueve desde 1 hasta 3\n",
            "Mueve desde 1 hasta 2\n",
            "Mueve desde 1 hasta 2\n",
            "Mueve desde 1 hasta 2\n",
            "Mueve desde 1 hasta 3\n",
            "Mueve desde 1 hasta 2\n",
            "Mueve desde 1 hasta 2\n",
            "Mueve desde 1 hasta 2\n",
            "Mueve desde 1 hasta 3\n",
            "Mueve desde 1 hasta 2\n",
            "Mueve desde 1 hasta 2\n",
            "Mueve desde 1 hasta 2\n",
            "Mueve desde 1 hasta 3\n",
            "Mueve desde 1 hasta 2\n",
            "Mueve desde 1 hasta 3\n",
            "Mueve desde 1 hasta 2\n",
            "Mueve desde 1 hasta 3\n",
            "Mueve desde 1 hasta 2\n",
            "Mueve desde 1 hasta 2\n",
            "Mueve desde 1 hasta 2\n",
            "Mueve desde 1 hasta 3\n",
            "Mueve desde 1 hasta 2\n",
            "Mueve desde 1 hasta 3\n",
            "Mueve desde 1 hasta 2\n",
            "Mueve desde 1 hasta 3\n",
            "Mueve desde 1 hasta 2\n",
            "Mueve desde 1 hasta 2\n",
            "Mueve desde 1 hasta 2\n",
            "Mueve desde 1 hasta 3\n",
            "Mueve desde 1 hasta 2\n",
            "Mueve desde 1 hasta 3\n",
            "Mueve desde 1 hasta 2\n",
            "Mueve desde 1 hasta 3\n",
            "Mueve desde 1 hasta 2\n",
            "Mueve desde 1 hasta 2\n",
            "Mueve desde 1 hasta 2\n",
            "Mueve desde 1 hasta 3\n",
            "Mueve desde 1 hasta 2\n",
            "Mueve desde 1 hasta 2\n",
            "Mueve desde 1 hasta 2\n",
            "Mueve desde 1 hasta 3\n",
            "Mueve desde 1 hasta 2\n",
            "Mueve desde 1 hasta 2\n",
            "Mueve desde 1 hasta 2\n",
            "Mueve desde 1 hasta 3\n",
            "Mueve desde 1 hasta 2\n",
            "Mueve desde 1 hasta 3\n",
            "Mueve desde 1 hasta 2\n",
            "Mueve desde 1 hasta 3\n",
            "Mueve desde 1 hasta 2\n",
            "Mueve desde 1 hasta 2\n",
            "Mueve desde 1 hasta 2\n",
            "Mueve desde 1 hasta 3\n",
            "Mueve desde 1 hasta 2\n"
          ],
          "name": "stdout"
        }
      ]
    },
    {
      "cell_type": "code",
      "metadata": {
        "colab": {
          "base_uri": "https://localhost:8080/"
        },
        "id": "vX-4bZKUTB7x",
        "outputId": "eda072fe-d35d-44e3-b068-bb5277969600"
      },
      "source": [
        "def cambio_monedas(cantidad,sistema):\n",
        "  print(\"Sistema:\" + str(sistema))\n",
        "  #Array que contendra la cantidad de monedas\n",
        "  solucion = [0 for i in range(len(sistema))]\n",
        "  #Valor acumulado\n",
        "  valor_acumulado = 0\n",
        "  #Recorremos el conjunto de candidatos(clave en proceso voraz)\n",
        "  for i in range(len(sistema)):\n",
        "    monedas = int((cantidad-valor_acumulado)/sistema[i])\n",
        "    solucion[i] = monedas\n",
        "    valor_acumulado += monedas*sistema[i]\n",
        "    if valor_acumulado == cantidad: return solucion\n",
        "  return solucion\n",
        "sis = [25,10,5,1]\n",
        "cambio_monedas(27,sis)\n"
      ],
      "execution_count": 3,
      "outputs": [
        {
          "output_type": "stream",
          "text": [
            "Sistema:[25, 10, 5, 1]\n"
          ],
          "name": "stdout"
        },
        {
          "output_type": "execute_result",
          "data": {
            "text/plain": [
              "[1, 0, 0, 2]"
            ]
          },
          "metadata": {
            "tags": []
          },
          "execution_count": 3
        }
      ]
    },
    {
      "cell_type": "code",
      "metadata": {
        "id": "uT779H3DEcS5"
      },
      "source": [
        "#Funcion que define si una solucion parcial es prometedora\n",
        "def es_prometedora(solucion,etapa):\n",
        "  for i in range(etapa+1):\n",
        "    if solucion.count(solucion[i])>1:\n",
        "      return False\n",
        "    for j in range(i+1,etapa+1):\n",
        "      if abs(i-j) == abs(solucion[i]-solucion[j]):\n",
        "        return False \n",
        "  return True\n",
        "#Funcion para el problema de las reinas\n",
        "def reinas(N, solucion = [], etapa = 0):\n",
        "  #N = tamano del tablero, numero de reinas\n",
        "  #solucion = Solcuion parcial\n",
        "  #etapa = numero de reinas presentes en solucion parcial\n",
        "\n",
        "  if len(solucion) == 0:\n",
        "    solucion = [0 for i in range(N)]\n",
        "  \n",
        "  #Se recorre a todas las reinas\n",
        "  for i in range(1,N+1):\n",
        "    solucion[etapa] = 1\n",
        "    \n",
        "    if es_prometedora(solucion,etapa):\n",
        "      if etapa == N-1:\n",
        "        print(solucion)\n",
        "      else:\n",
        "        reinas(N,solucion,etapa+1)\n",
        "    else:\n",
        "      None \n",
        "    solucion[etapa] = 0 \n",
        "  \n"
      ],
      "execution_count": 4,
      "outputs": []
    },
    {
      "cell_type": "code",
      "metadata": {
        "colab": {
          "base_uri": "https://localhost:8080/"
        },
        "id": "CM6gUwaFWHFy",
        "outputId": "4c45418c-2092-40d7-f6c0-28ae10070337"
      },
      "source": [
        "#Problema de Viaje por el rio\n",
        "import math\n",
        "\n",
        "tarifas = [[0,5,4,3,999,999],[999,0,999,2,3,999,11],\n",
        "           [999,999,0,1,999,4,10],[999,999,999,0,5,6,9],\n",
        "           [999,999,999,999,0,4],[999,999,999,999,999,0,3],\n",
        "           [999,999,999,999,999,999,0]]\n",
        "\n",
        "def Precios(tarifas):\n",
        "  N = len(tarifas[0])\n",
        "\n",
        "  precios = [[9999]*N for i in [9999]*N]\n",
        "  ruta = [[\"\"]*N for i in [\"\"]*N]\n",
        "\n",
        "  for i in range(N-1):\n",
        "    for j in range(i+1,N):\n",
        "      MIN = tarifas[i][j]\n",
        "      ruta[i][j] = i\n",
        "\n",
        "      for k in range(i,j):\n",
        "        if precios[i][k] + tarifas[k][j] < MIN:\n",
        "          MIN = min(MIN, precios[i][k] + tarifas[k][j])\n",
        "          ruta[i][j] = k\n",
        "        precios[i][j] = MIN\n",
        "  return precios,ruta\n",
        "\n",
        "def calcular_ruta(ruta,desde,hasta):\n",
        "    if desde == hasta:\n",
        "      return desde\n",
        "    else:\n",
        "      return calcular_ruta(ruta,desde, ruta[desde][hasta]),ruta[desde][hasta]\n",
        "\n",
        "p,r = Precios(tarifas)\n",
        "calcular_ruta(r,0,5)  "
      ],
      "execution_count": 5,
      "outputs": [
        {
          "output_type": "execute_result",
          "data": {
            "text/plain": [
              "((0, 0), 2)"
            ]
          },
          "metadata": {
            "tags": []
          },
          "execution_count": 5
        }
      ]
    },
    {
      "cell_type": "code",
      "metadata": {
        "id": "o6fGRjUkmbfH"
      },
      "source": [
        "#Prueba individual: encontrar los puntos más cercanos\n",
        "import random\n",
        "lista_1d = [random.randrange(1,10000) for x in range(100)]\n",
        "lista_2d = [(random.randrange(1,10000),random.randrange(1,10000)) for x in range(100)]\n",
        "lista_3d = [[random.randrange(1,10000),random.randrange(1,10000),random.randrange(1,10000)] for x in range(100)]"
      ],
      "execution_count": 24,
      "outputs": []
    },
    {
      "cell_type": "code",
      "metadata": {
        "colab": {
          "base_uri": "https://localhost:8080/"
        },
        "id": "M9HvIOzcnqB-",
        "outputId": "c56d0bd5-278d-4bc2-9ed0-4a03be5a056f"
      },
      "source": [
        "#Primer intento: fuerza bruta 1D\n",
        "#En este caso se recorre la lista por cada elemento, comparando cada uno entre si\n",
        "#1. Se saca el conjunto de diferencias de cada entrada con los otras: n^2\n",
        "#2. Se extrae el mínimo de estas diferencias: constante\n",
        "#La complejidad es de orden cuadratico\n",
        "\n",
        "def min_1d(lista):\n",
        "  minimo = 0\n",
        "  lista_minimos = []\n",
        "  for i in lista:\n",
        "    for j in lista:\n",
        "      res = abs(i-j)\n",
        "      if res != 0:\n",
        "        lista_minimos.append([res,i,j]) #res = diferencia, i y j los puntos mas cercanos\n",
        "    minimo = min(lista_minimos,key = lambda x: x[0])\n",
        "  return minimo\n",
        "\n",
        "min_1d(lista_1d)\n"
      ],
      "execution_count": 25,
      "outputs": [
        {
          "output_type": "execute_result",
          "data": {
            "text/plain": [
              "[2, 3247, 3245]"
            ]
          },
          "metadata": {
            "tags": []
          },
          "execution_count": 25
        }
      ]
    },
    {
      "cell_type": "code",
      "metadata": {
        "colab": {
          "base_uri": "https://localhost:8080/"
        },
        "id": "Yp7QUxyurkkK",
        "outputId": "e656bfcb-1253-435a-c8dd-ded52a04e962"
      },
      "source": [
        "#Divide y venceras para 1D\n",
        "import sys\n",
        "sys.setrecursionlimit(20000) #Para omitir el error de recursion \n",
        "def divide_venceras_1D(lista): #Para esto sorteamos los puntos y devolvemos el mínimo de estos\n",
        "  sorteados = sorted(lista)\n",
        "  t = zip(sorteados,sorteados[1:])\n",
        "  final = min(t,key = lambda x: abs(x[0]-x[1]))\n",
        "  return final\n",
        "    \n",
        "\n",
        "divide_venceras_1D(lista_1d)\n",
        "#Para el metodo de divide y venceras se partio el proceso parejas, a modo de tabla (x1,x2) donde solo se comparo las distancias entre pares\n",
        "#esto da un a complejidad cuasilineal. Sin embargo, puede no dar la solucion optima. El proceso para 2D y 3D seguira el mismo razonamiento\n",
        "#pero trabajando en pares y triadas de coordendas. \n"
      ],
      "execution_count": 26,
      "outputs": [
        {
          "output_type": "execute_result",
          "data": {
            "text/plain": [
              "(3245, 3247)"
            ]
          },
          "metadata": {
            "tags": []
          },
          "execution_count": 26
        }
      ]
    }
  ]
}